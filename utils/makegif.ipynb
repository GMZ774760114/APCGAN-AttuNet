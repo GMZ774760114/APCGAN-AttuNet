{
 "cells": [
  {
   "cell_type": "code",
   "execution_count": null,
   "id": "c1c97173",
   "metadata": {},
   "outputs": [],
   "source": [
    "import os\n",
    "from PIL import Image\n",
    "import random\n",
    "\n",
    "file_root = \"./APCGAN\"\n",
    "file_lists = os.listdir(file_root)\n",
    "print(file_lists)\n",
    "import imageio\n",
    "images = []\n",
    "\n",
    "for file_list in file_lists:\n",
    "\n",
    "    if file_list[-4:] == '.png':\n",
    "        filename = file_root+'/'+file_list\n",
    "\n",
    "        images.append(imageio.imread(filename))\n",
    "imageio.mimsave('./APCGAN/movie.gif', images)"
   ]
  },
  {
   "cell_type": "code",
   "execution_count": null,
   "id": "346306b7",
   "metadata": {},
   "outputs": [],
   "source": []
  }
 ],
 "metadata": {
  "kernelspec": {
   "display_name": "Python 3 (ipykernel)",
   "language": "python",
   "name": "python3"
  },
  "language_info": {
   "codemirror_mode": {
    "name": "ipython",
    "version": 3
   },
   "file_extension": ".py",
   "mimetype": "text/x-python",
   "name": "python",
   "nbconvert_exporter": "python",
   "pygments_lexer": "ipython3",
   "version": "3.9.12"
  }
 },
 "nbformat": 4,
 "nbformat_minor": 5
}
